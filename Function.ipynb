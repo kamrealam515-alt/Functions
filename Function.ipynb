{
  "nbformat": 4,
  "nbformat_minor": 0,
  "metadata": {
    "colab": {
      "provenance": []
    },
    "kernelspec": {
      "name": "python3",
      "display_name": "Python 3"
    },
    "language_info": {
      "name": "python"
    }
  },
  "cells": [
    {
      "cell_type": "markdown",
      "source": [
        "# functions\n"
      ],
      "metadata": {
        "id": "1Tou97TKuOOe"
      }
    },
    {
      "cell_type": "code",
      "source": [
        "# question\n",
        "...\n",
        "this is answer\n",
        "...\n",
        "...\n",
        "this is answer\n",
        "..."
      ],
      "metadata": {
        "id": "ok60vyWPuXwH"
      },
      "execution_count": null,
      "outputs": []
    },
    {
      "cell_type": "markdown",
      "source": [
        "what is the defference between a function and a method in python?\n",
        "-  In Python, functions and methods are similar in that both are blocks of reusable code, but they have some key differences:\n",
        "✅ Function Definition: A function is a standalone block of code that performs a specific task.\n",
        "2. second question?\n",
        "-  there is second question"
      ],
      "metadata": {
        "id": "3B-j2s-Dudb1"
      }
    }
  ]
}